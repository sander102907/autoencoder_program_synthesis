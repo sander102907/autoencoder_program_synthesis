{
 "cells": [
  {
   "cell_type": "code",
   "execution_count": 1,
   "metadata": {},
   "outputs": [],
   "source": [
    "import torch\n",
    "import torch.nn as nn\n",
    "import torch.nn.functional as F\n",
    "from torch import optim\n",
    "from tqdm import tqdm\n",
    "import json\n",
    "from anytree.importer import JsonImporter\n",
    "from anytree import PreOrderIter\n",
    "import pandas as pd\n",
    "import sys\n",
    "sys.path.append(\"utils/\")\n",
    "from utils.TreePlotter import TreePlotter\n",
    "from utils.TreeConverter import TreeConverter\n",
    "import math\n",
    "# from torchtext.data import Field, BucketIterator\n",
    "\n",
    "device = torch.device(\"cuda\" if torch.cuda.is_available() else \"cpu\")\n",
    "# device = 'cpu'"
   ]
  },
  {
   "cell_type": "code",
   "execution_count": 224,
   "metadata": {},
   "outputs": [
    {
     "name": "stderr",
     "output_type": "stream",
     "text": [
      "                                                  \r"
     ]
    }
   ],
   "source": [
    "def prepare_data():\n",
    "    reserved_tokens_path = '../data/ast_trees/reserved_tokens.json'\n",
    "    asts_path = '../data/ast_trees/asts.csv.bz2'\n",
    "\n",
    "    with open(reserved_tokens_path, 'r') as json_f:\n",
    "        json_data = json_f.read()\n",
    "\n",
    "    reserved_tokens = json.loads(json_data)\n",
    "\n",
    "    asts = pd.read_csv(asts_path, chunksize=1e4)\n",
    "\n",
    "    importer = JsonImporter()\n",
    "    \n",
    "#     reserved_tokens['<sos>'] = len(reserved_tokens)\n",
    "#     reserved_tokens['<eos>'] = len(reserved_tokens)\n",
    "    reserved_tokens['<pad>'] = len(reserved_tokens)\n",
    "\n",
    "\n",
    "    data = []\n",
    "    try:\n",
    "        for ast_chunk in asts:\n",
    "            for ast in ast_chunk['AST']:\n",
    "                tree = importer.import_(ast)\n",
    "                tree_repr = torch.tensor([node.token for node in PreOrderIter(tree) if node.res])\n",
    "                if len(tree_repr) < 300 and len(tree_repr) > 1:\n",
    "                    data.append(tree_repr)\n",
    "    except Exception:\n",
    "        pass\n",
    "    \n",
    "    # Sort trees such that during batching we have to pad the batches minimally\n",
    "    data.sort(key=len)\n",
    "\n",
    "#     print(torch.stack(trees))\n",
    "#     data = torch.tensor(trees)\n",
    "    \n",
    "    return data, reserved_tokens\n",
    "\n",
    "data, reserved_tokens = prepare_data()    "
   ]
  },
  {
   "cell_type": "code",
   "execution_count": 13,
   "metadata": {},
   "outputs": [],
   "source": [
    "def preprocess_batch(batch):\n",
    "#     batch = [torch.tensor([reserved_tokens['<sos>']] + item + [reserved_tokens['<eos>']]) for item in batch]\n",
    "    batch = nn.utils.rnn.pad_sequence(batch, batch_first=True, padding_value=reserved_tokens['<pad>'])\n",
    "    \n",
    "    return batch.to(device)\n"
   ]
  },
  {
   "cell_type": "code",
   "execution_count": 329,
   "metadata": {},
   "outputs": [
    {
     "name": "stderr",
     "output_type": "stream",
     "text": [
      "Epoch: 0: 100%|██████████| 213/213 [04:08<00:00,  1.17s/batch, loss=3.14]\n",
      "Epoch: 1: 100%|██████████| 213/213 [03:46<00:00,  1.07s/batch, loss=3.05]\n",
      "Epoch: 2: 100%|██████████| 213/213 [03:25<00:00,  1.04batch/s, loss=2.99]\n",
      "Epoch: 3: 100%|██████████| 213/213 [03:04<00:00,  1.16batch/s, loss=2.96]\n",
      "Epoch: 4: 100%|██████████| 213/213 [02:42<00:00,  1.31batch/s, loss=2.96]\n",
      "Epoch: 5: 100%|██████████| 213/213 [02:21<00:00,  1.51batch/s, loss=2.94]\n",
      "Epoch: 6: 100%|██████████| 213/213 [01:59<00:00,  1.78batch/s, loss=2.95]\n",
      "Epoch: 7: 100%|██████████| 213/213 [01:38<00:00,  2.16batch/s, loss=2.95]\n",
      "Epoch: 8: 100%|██████████| 213/213 [01:17<00:00,  2.76batch/s, loss=2.99]\n",
      "Epoch: 9: 100%|██████████| 213/213 [00:55<00:00,  3.81batch/s, loss=2.93]\n"
     ]
    }
   ],
   "source": [
    "class EncoderVAE(nn.Module):\n",
    "    def __init__(self, vocab_size, embedding_size, hidden_size, latent_size, dropout, bidirectional=False):\n",
    "        super().__init__()       \n",
    "        \n",
    "        # Variables\n",
    "        self.latent_size = latent_size\n",
    "        self.bidirectional = bidirectional\n",
    "        self.hidden_size = hidden_size\n",
    "\n",
    "        # Layers\n",
    "        self.embedding = nn.Embedding(vocab_size, embedding_size, padding_idx=reserved_tokens['<pad>'])\n",
    "        self.dropout = nn.Dropout(dropout)\n",
    "        self.lstm = nn.LSTM(embedding_size, hidden_size, bidirectional=self.bidirectional, batch_first=True)\n",
    "        self.z_mean = nn.Linear(hidden_size, self.latent_size)\n",
    "        self.z_log_var = nn.Linear(hidden_size, self.latent_size)\n",
    "        \n",
    "        \n",
    "    def reparameterize(self, mu, log_var):\n",
    "        if self.training:\n",
    "            std = torch.exp(0.5 * log_var)\n",
    "            eps = std.data.new(std.size()).normal_()\n",
    "            return eps.mul(std).add_(mu)\n",
    "        else:\n",
    "            return mu\n",
    "        \n",
    "    def forward(self, inp):\n",
    "        # inp shape: (batch_size, seq_len)\n",
    "        \n",
    "        [batch_size, seq_len] = inp.size()\n",
    "        \n",
    "        embedding = self.dropout(self.embedding(inp))\n",
    "        \n",
    "        # Get final hidden state from the last layer\n",
    "        outputs, (hidden, cell) = self.lstm(embedding)\n",
    "        \n",
    "        outputs = outputs[:, -1, :].view(1, batch_size, -1)\n",
    "#         print(outputs.shape)\n",
    "#         print(hidden.shape)\n",
    "#         print(cell.shape)\n",
    "        \n",
    "#         print(cell.view(1, batch_size, self.hidden_size).shape)\n",
    "        \n",
    "#         last_hidden_state = hidden[:, -1]\n",
    "        \n",
    "#         z_mean = self.z_mean(last_hidden_state)\n",
    "#         z_log_var = self.z_log_var(last_hidden_state)\n",
    "\n",
    "        z_mean = self.z_mean(outputs)\n",
    "        z_log_var = self.z_log_var(outputs)\n",
    "        \n",
    "        z = self.reparameterize(z_mean, z_log_var)\n",
    "        \n",
    "        return z, z_mean, z_log_var"
   ]
  },
  {
   "cell_type": "code",
   "execution_count": 394,
   "metadata": {},
   "outputs": [],
   "source": [
    "class DecoderVAE(nn.Module):\n",
    "    def __init__(self, latent_size, hidden_size, output_size):\n",
    "        super().__init__()\n",
    "        \n",
    "        self.latent_size = latent_size\n",
    "        self.hidden_size = hidden_size\n",
    "        \n",
    "        self.lstm = nn.LSTM(latent_size, hidden_size, batch_first=True)\n",
    "        self.fc = nn.Linear(hidden_size, output_size)\n",
    "        self.softmax = nn.LogSoftmax(dim=2)\n",
    "        \n",
    "    def forward(self, z, seq_len, target=None):\n",
    "        # z shape: (1, batch_size, latent_variable_size)\n",
    "        \n",
    "        [_, batch_size, latent_variable_size] = z.size()\n",
    "        \n",
    "        # Replicate z to append the same z at each time step\n",
    "        z = torch.cat([z] * seq_len, 1).view(batch_size, seq_len, self.latent_size) \n",
    "\n",
    "#         z.squeeze(0)\n",
    "\n",
    "        # If we are not training\n",
    "#         if target is None:\n",
    "\n",
    "#             outputs = torch.zeros(seq_len, batch_size, self.hidden_size).to(device)\n",
    "\n",
    "#             output, (hidden, cell) = self.lstm(z)\n",
    "#             # shape of outputs: (batch_size, seq_len, hidden_size)\n",
    "\n",
    "#             outputs[0] = output\n",
    "\n",
    "#             for i in range(1, seq_len):\n",
    "#                 output, (hidden, cell) = self.lstm(output, (hidden, cell))\n",
    "#                 outputs[i] = output\n",
    "\n",
    "#             outputs = outputs.view(batch_size, seq_len, -1)\n",
    "            \n",
    "#         else:\n",
    "#             z = torch.cat([z] * seq_len, 1).view(batch_size, seq_len, self.latent_size)\n",
    "#             print(z.shape)\n",
    "#             print(target.shape)\n",
    "#             decoder_inp = torch.cat([target, z], 2)\n",
    "            \n",
    "#             print(decoder_inp.shape)\n",
    "\n",
    "        outputs, _ = self.lstm(z)\n",
    "\n",
    "\n",
    "        out = self.softmax(self.fc(outputs))\n",
    "        # shape of out: (batch_size, seq_len, output_size)\n",
    "        \n",
    "        return out\n",
    "        \n",
    "            "
   ]
  },
  {
   "cell_type": "code",
   "execution_count": 395,
   "metadata": {},
   "outputs": [
    {
     "name": "stderr",
     "output_type": "stream",
     "text": [
      "Epoch: 0:   0%|          | 0/213 [37:13<?, ?batch/s]\n",
      "Epoch: 0:   0%|          | 0/213 [37:04<?, ?batch/s]\n",
      "Epoch: 1:   3%|▎         | 7/213 [09:48<4:48:31, 84.03s/batch, loss=2.74]\n",
      "Epoch: 0:   0%|          | 0/213 [02:11<?, ?batch/s]\n",
      "Epoch: 0:   0%|          | 0/213 [01:37<?, ?batch/s]\n"
     ]
    }
   ],
   "source": [
    "class VAE(nn.Module):\n",
    "    def __init__(self, encoder, decoder):\n",
    "        super().__init__()\n",
    "#         self.embedding = nn.Embedding(input_size, embedding_size)\n",
    "#         self.dropout = nn.Dropout(dropout)\n",
    "        self.encoder = encoder\n",
    "        self.decoder = decoder\n",
    "            \n",
    "    def forward(self, inp):\n",
    "        [batch_size, seq_len] = inp.size()\n",
    "        \n",
    "#         embedded = self.dropout(self.embedding(inp))\n",
    "        # embedded shape: (batch_size, seq_length, embedding_size)\n",
    "        \n",
    "        z, z_mean, z_log_var = self.encoder(inp)\n",
    "        dec_output = self.decoder(z, inp.size()[-1], inp)\n",
    "        \n",
    "        return dec_output, z_mean, z_log_var\n",
    "        \n",
    "            \n",
    "    def loss(self, dec_output, target, mu, log_var):\n",
    "        # Calculate latent loss/reconstruction loss\n",
    "        # How far is the reconstruction from the original input\n",
    "        # reconstruction shape: (batch_size, seq_len, vocab_len) -> (batch_size * seq_len, vocab_len)\n",
    "        # target shape: (batch_size, seq_len) -> (batch_size * seq_len)\n",
    "        reconstruction_loss = F.nll_loss(\n",
    "            m(dec_output).view(-1, len(reserved_tokens)),\n",
    "            target.view(-1),\n",
    "            ignore_index=reserved_tokens['<pad>']\n",
    "        )\n",
    "        \n",
    "        # Get kullback leichner loss\n",
    "        kl_loss = 0.5 * torch.sum(log_var.exp() - log_var - 1 + mu.pow(2))\n",
    "        \n",
    "#         print(reconstruction_loss, kl_loss)\n",
    "        \n",
    "        return reconstruction_loss + kl_loss\n",
    "    \n",
    "    def train(self, data, epochs, batch_size):\n",
    "        self.encoder.train()\n",
    "        self.decoder.train()\n",
    "        \n",
    "        encoder_optimizer = optim.Adam(self.encoder.parameters(), lr=0.001)\n",
    "        decoder_optimizer = optim.Adam(self.decoder.parameters(), lr=0.001)\n",
    "        \n",
    "        \n",
    "        for epoch in range(epochs):\n",
    "            pbar = tqdm(range(math.ceil(len(data)/batch_size)), unit='batch', desc=f'Epoch: {epoch}', position=0)\n",
    "            for i in range(0, len(data), batch_size):\n",
    "                encoder_optimizer.zero_grad()\n",
    "                decoder_optimizer.zero_grad()\n",
    "\n",
    "                batch = preprocess_batch(data[i: i + batch_size])\n",
    "\n",
    "                dec_output, z_mean, z_log_var = self(batch)\n",
    "                loss = self.loss(dec_output, batch, z_mean, z_log_var)\n",
    "                loss.backward()\n",
    "                encoder_optimizer.step()\n",
    "                decoder_optimizer.step()\n",
    "                pbar.set_postfix(loss=round(loss.item(), 3))\n",
    "                pbar.update()\n",
    "            print(f'Epoch {epoch} loss: {loss}')\n",
    "        "
   ]
  },
  {
   "cell_type": "code",
   "execution_count": 396,
   "metadata": {},
   "outputs": [],
   "source": [
    "vocab_size = len(reserved_tokens)\n",
    "embed_dim = 300\n",
    "lstm_hidden_size = 256\n",
    "latent_size = 128\n",
    "dropout = 0.5\n",
    "\n",
    "encoder = EncoderVAE(vocab_size, embed_dim, lstm_hidden_size, latent_size, dropout).to(device)\n",
    "decoder = DecoderVAE(latent_size, lstm_hidden_size, vocab_size).to(device)\n",
    "\n",
    "vae = VAE(encoder, decoder)\n",
    "\n",
    "\n",
    "\n"
   ]
  },
  {
   "cell_type": "code",
   "execution_count": 397,
   "metadata": {},
   "outputs": [
    {
     "name": "stderr",
     "output_type": "stream",
     "text": [
      "Epoch: 0:  43%|████▎     | 91/213 [00:05<00:10, 11.98batch/s, loss=3.54]"
     ]
    },
    {
     "ename": "KeyboardInterrupt",
     "evalue": "",
     "output_type": "error",
     "traceback": [
      "\u001b[0;31m---------------------------------------------------------------------------\u001b[0m",
      "\u001b[0;31mKeyboardInterrupt\u001b[0m                         Traceback (most recent call last)",
      "\u001b[0;32m<ipython-input-397-fe9f7020e20e>\u001b[0m in \u001b[0;36m<module>\u001b[0;34m\u001b[0m\n\u001b[0;32m----> 1\u001b[0;31m \u001b[0mvae\u001b[0m\u001b[0;34m.\u001b[0m\u001b[0mtrain\u001b[0m\u001b[0;34m(\u001b[0m\u001b[0mdata\u001b[0m\u001b[0;34m,\u001b[0m \u001b[0;36m3\u001b[0m\u001b[0;34m,\u001b[0m \u001b[0;36m64\u001b[0m\u001b[0;34m)\u001b[0m\u001b[0;34m\u001b[0m\u001b[0;34m\u001b[0m\u001b[0m\n\u001b[0m",
      "\u001b[0;32m<ipython-input-395-26a3c3cf9245>\u001b[0m in \u001b[0;36mtrain\u001b[0;34m(self, data, epochs, batch_size)\u001b[0m\n\u001b[1;32m     55\u001b[0m                 \u001b[0mdec_output\u001b[0m\u001b[0;34m,\u001b[0m \u001b[0mz_mean\u001b[0m\u001b[0;34m,\u001b[0m \u001b[0mz_log_var\u001b[0m \u001b[0;34m=\u001b[0m \u001b[0mself\u001b[0m\u001b[0;34m(\u001b[0m\u001b[0mbatch\u001b[0m\u001b[0;34m)\u001b[0m\u001b[0;34m\u001b[0m\u001b[0;34m\u001b[0m\u001b[0m\n\u001b[1;32m     56\u001b[0m                 \u001b[0mloss\u001b[0m \u001b[0;34m=\u001b[0m \u001b[0mself\u001b[0m\u001b[0;34m.\u001b[0m\u001b[0mloss\u001b[0m\u001b[0;34m(\u001b[0m\u001b[0mdec_output\u001b[0m\u001b[0;34m,\u001b[0m \u001b[0mbatch\u001b[0m\u001b[0;34m,\u001b[0m \u001b[0mz_mean\u001b[0m\u001b[0;34m,\u001b[0m \u001b[0mz_log_var\u001b[0m\u001b[0;34m)\u001b[0m\u001b[0;34m\u001b[0m\u001b[0;34m\u001b[0m\u001b[0m\n\u001b[0;32m---> 57\u001b[0;31m                 \u001b[0mloss\u001b[0m\u001b[0;34m.\u001b[0m\u001b[0mbackward\u001b[0m\u001b[0;34m(\u001b[0m\u001b[0;34m)\u001b[0m\u001b[0;34m\u001b[0m\u001b[0;34m\u001b[0m\u001b[0m\n\u001b[0m\u001b[1;32m     58\u001b[0m                 \u001b[0mencoder_optimizer\u001b[0m\u001b[0;34m.\u001b[0m\u001b[0mstep\u001b[0m\u001b[0;34m(\u001b[0m\u001b[0;34m)\u001b[0m\u001b[0;34m\u001b[0m\u001b[0;34m\u001b[0m\u001b[0m\n\u001b[1;32m     59\u001b[0m                 \u001b[0mdecoder_optimizer\u001b[0m\u001b[0;34m.\u001b[0m\u001b[0mstep\u001b[0m\u001b[0;34m(\u001b[0m\u001b[0;34m)\u001b[0m\u001b[0;34m\u001b[0m\u001b[0;34m\u001b[0m\u001b[0m\n",
      "\u001b[0;32m/mnt/9C9AB7DB9AB7B05E/Linux/documents/Thesis-Autoencoders_as_Tools_for_Program_Synthesis/autoencoder_program_synthesis/venv/lib/python3.8/site-packages/torch/tensor.py\u001b[0m in \u001b[0;36mbackward\u001b[0;34m(self, gradient, retain_graph, create_graph, inputs)\u001b[0m\n\u001b[1;32m    243\u001b[0m                 \u001b[0mcreate_graph\u001b[0m\u001b[0;34m=\u001b[0m\u001b[0mcreate_graph\u001b[0m\u001b[0;34m,\u001b[0m\u001b[0;34m\u001b[0m\u001b[0;34m\u001b[0m\u001b[0m\n\u001b[1;32m    244\u001b[0m                 inputs=inputs)\n\u001b[0;32m--> 245\u001b[0;31m         \u001b[0mtorch\u001b[0m\u001b[0;34m.\u001b[0m\u001b[0mautograd\u001b[0m\u001b[0;34m.\u001b[0m\u001b[0mbackward\u001b[0m\u001b[0;34m(\u001b[0m\u001b[0mself\u001b[0m\u001b[0;34m,\u001b[0m \u001b[0mgradient\u001b[0m\u001b[0;34m,\u001b[0m \u001b[0mretain_graph\u001b[0m\u001b[0;34m,\u001b[0m \u001b[0mcreate_graph\u001b[0m\u001b[0;34m,\u001b[0m \u001b[0minputs\u001b[0m\u001b[0;34m=\u001b[0m\u001b[0minputs\u001b[0m\u001b[0;34m)\u001b[0m\u001b[0;34m\u001b[0m\u001b[0;34m\u001b[0m\u001b[0m\n\u001b[0m\u001b[1;32m    246\u001b[0m \u001b[0;34m\u001b[0m\u001b[0m\n\u001b[1;32m    247\u001b[0m     \u001b[0;32mdef\u001b[0m \u001b[0mregister_hook\u001b[0m\u001b[0;34m(\u001b[0m\u001b[0mself\u001b[0m\u001b[0;34m,\u001b[0m \u001b[0mhook\u001b[0m\u001b[0;34m)\u001b[0m\u001b[0;34m:\u001b[0m\u001b[0;34m\u001b[0m\u001b[0;34m\u001b[0m\u001b[0m\n",
      "\u001b[0;32m/mnt/9C9AB7DB9AB7B05E/Linux/documents/Thesis-Autoencoders_as_Tools_for_Program_Synthesis/autoencoder_program_synthesis/venv/lib/python3.8/site-packages/torch/autograd/__init__.py\u001b[0m in \u001b[0;36mbackward\u001b[0;34m(tensors, grad_tensors, retain_graph, create_graph, grad_variables, inputs)\u001b[0m\n\u001b[1;32m    143\u001b[0m         \u001b[0mretain_graph\u001b[0m \u001b[0;34m=\u001b[0m \u001b[0mcreate_graph\u001b[0m\u001b[0;34m\u001b[0m\u001b[0;34m\u001b[0m\u001b[0m\n\u001b[1;32m    144\u001b[0m \u001b[0;34m\u001b[0m\u001b[0m\n\u001b[0;32m--> 145\u001b[0;31m     Variable._execution_engine.run_backward(\n\u001b[0m\u001b[1;32m    146\u001b[0m         \u001b[0mtensors\u001b[0m\u001b[0;34m,\u001b[0m \u001b[0mgrad_tensors_\u001b[0m\u001b[0;34m,\u001b[0m \u001b[0mretain_graph\u001b[0m\u001b[0;34m,\u001b[0m \u001b[0mcreate_graph\u001b[0m\u001b[0;34m,\u001b[0m \u001b[0minputs\u001b[0m\u001b[0;34m,\u001b[0m\u001b[0;34m\u001b[0m\u001b[0;34m\u001b[0m\u001b[0m\n\u001b[1;32m    147\u001b[0m         allow_unreachable=True, accumulate_grad=True)  # allow_unreachable flag\n",
      "\u001b[0;31mKeyboardInterrupt\u001b[0m: "
     ]
    },
    {
     "name": "stderr",
     "output_type": "stream",
     "text": [
      "Epoch: 0:  43%|████▎     | 92/213 [00:25<00:10, 11.98batch/s, loss=3.54]"
     ]
    }
   ],
   "source": [
    "vae.train(data, 3, 64)"
   ]
  },
  {
   "cell_type": "code",
   "execution_count": 379,
   "metadata": {},
   "outputs": [
    {
     "name": "stdout",
     "output_type": "stream",
     "text": [
      "tensor([ 0, 11,  8, 12, 13, 18,  5,  6,  7,  8])\n",
      "tensor([[7, 8, 8, 8, 8, 8, 8, 8, 8, 8]], device='cuda:0')\n"
     ]
    }
   ],
   "source": [
    "idx = 4\n",
    "\n",
    "encoder.eval()\n",
    "decoder.eval()\n",
    "\n",
    "z, _, _ = encoder(data[idx].view(1, -1).to(device))\n",
    "reconstruction = torch.argmax(decoder(z, len(data[idx])), dim=2)\n",
    "\n",
    "print(data[idx])\n",
    "print(reconstruction)"
   ]
  },
  {
   "cell_type": "code",
   "execution_count": 353,
   "metadata": {},
   "outputs": [
    {
     "data": {
      "text/plain": [
       "35"
      ]
     },
     "execution_count": 353,
     "metadata": {},
     "output_type": "execute_result"
    }
   ],
   "source": [
    "len(data[idx])"
   ]
  },
  {
   "cell_type": "code",
   "execution_count": 281,
   "metadata": {},
   "outputs": [
    {
     "name": "stderr",
     "output_type": "stream",
     "text": [
      "Epoch: 0: 100%|██████████| 213/213 [04:16<00:00,  1.20s/batch, loss=3.91]\n",
      "Epoch: 1: 100%|██████████| 213/213 [03:54<00:00,  1.10s/batch, loss=3.27]\n",
      "Epoch: 2: 100%|██████████| 213/213 [03:33<00:00,  1.00s/batch, loss=3.1]\n",
      "Epoch: 3: 100%|██████████| 213/213 [03:12<00:00,  1.11batch/s, loss=3.02]\n",
      "Epoch: 4: 100%|██████████| 213/213 [02:51<00:00,  1.25batch/s, loss=2.97]\n",
      "Epoch: 5: 100%|██████████| 213/213 [02:29<00:00,  1.42batch/s, loss=2.96]\n",
      "Epoch: 6: 100%|██████████| 213/213 [02:08<00:00,  1.66batch/s, loss=2.95]\n",
      "Epoch: 7: 100%|██████████| 213/213 [01:47<00:00,  1.99batch/s, loss=2.95]\n",
      "Epoch: 8: 100%|██████████| 213/213 [01:25<00:00,  2.48batch/s, loss=2.96]\n",
      "Epoch: 9: 100%|██████████| 213/213 [01:04<00:00,  3.30batch/s, loss=2.97]\n"
     ]
    },
    {
     "data": {
      "text/plain": [
       "torch.Size([1, 299, 136])"
      ]
     },
     "execution_count": 281,
     "metadata": {},
     "output_type": "execute_result"
    }
   ],
   "source": [
    "decoder(z, len(data[-1])).shape"
   ]
  },
  {
   "cell_type": "code",
   "execution_count": 290,
   "metadata": {},
   "outputs": [
    {
     "data": {
      "text/plain": [
       "{'root': 0,\n",
       " 'TYPEDEF_DECL': 1,\n",
       " 'TYPE_DEF': 2,\n",
       " 'IDENTIFIER': 3,\n",
       " 'NAMESPACE_REF': 4,\n",
       " 'VAR_DECL': 5,\n",
       " 'TYPE': 6,\n",
       " 'DECLARATOR': 7,\n",
       " 'NAME': 8,\n",
       " 'INTEGER_LITERAL': 9,\n",
       " 'UNARY_OPERATOR_-': 10,\n",
       " 'FUNCTION_DECL': 11,\n",
       " 'RETURN_TYPE': 12,\n",
       " 'COMPOUND_STMT': 13,\n",
       " 'CALL_EXPR': 14,\n",
       " 'ARGUMENTS': 15,\n",
       " 'TYPE_REF': 16,\n",
       " 'DECL_REF_EXPR': 17,\n",
       " 'DECL_STMT': 18,\n",
       " 'BINARY_OPERATOR_+': 19,\n",
       " 'FOR_STMT': 20,\n",
       " 'BINARY_OPERATOR_=': 21,\n",
       " 'BINARY_OPERATOR_<': 22,\n",
       " 'UNARY_OPERATOR_POST_++': 23,\n",
       " 'ARRAY_SUBSCRIPT_EXPR': 24,\n",
       " 'BINARY_OPERATOR_!=': 25,\n",
       " 'CHARACTER_LITERAL': 26,\n",
       " 'NULL_STMT': 27,\n",
       " 'STRING_LITERAL': 28,\n",
       " 'WHILE_STMT': 29,\n",
       " 'UNARY_OPERATOR_!': 30,\n",
       " 'MEMBER_REF_EXPR': 31,\n",
       " 'BINARY_OPERATOR_%': 32,\n",
       " 'PAREN_EXPR': 33,\n",
       " 'BINARY_OPERATOR_*': 34,\n",
       " 'IF_STMT': 35,\n",
       " 'BINARY_OPERATOR_&&': 36,\n",
       " 'BINARY_OPERATOR_<=': 37,\n",
       " 'CSTYLE_CAST_EXPR': 38,\n",
       " 'CXX_FOR_RANGE_STMT': 39,\n",
       " 'PARM_DECL': 40,\n",
       " 'RETURN_STMT': 41,\n",
       " 'BINARY_OPERATOR_==': 42,\n",
       " 'UNARY_OPERATOR_&': 43,\n",
       " 'FLOATING_LITERAL': 44,\n",
       " 'STRUCT_DECL': 45,\n",
       " 'FIELD_DECL': 46,\n",
       " 'ACCESS_SPECIFIER': 47,\n",
       " 'PUBLIC': 48,\n",
       " 'CONSTRUCTOR': 49,\n",
       " 'CONSTRUCTOR_INITIALIZER': 50,\n",
       " 'MEMBER_REF': 51,\n",
       " 'INIT_LIST_EXPR': 52,\n",
       " 'BINARY_OPERATOR_/': 53,\n",
       " 'CXX_METHOD': 54,\n",
       " 'BINARY_OPERATOR_>': 55,\n",
       " 'BINARY_OPERATOR_&': 56,\n",
       " 'COMPOUND_ASSIGNMENT_OPERATOR_+=': 57,\n",
       " 'BINARY_OPERATOR_>>': 58,\n",
       " 'BINARY_OPERATOR_-': 59,\n",
       " 'CONTINUE_STMT': 60,\n",
       " 'UNARY_OPERATOR_POST_--': 61,\n",
       " 'BINARY_OPERATOR_||': 62,\n",
       " 'CXX_BOOL_LITERAL_EXPR': 63,\n",
       " 'COMPOUND_ASSIGNMENT_OPERATOR_-=': 64,\n",
       " 'BINARY_OPERATOR_^': 65,\n",
       " 'BREAK_STMT': 66,\n",
       " 'BINARY_OPERATOR_,': 67,\n",
       " 'UNARY_OPERATOR_PRE_++': 68,\n",
       " 'COMPOUND_ASSIGNMENT_OPERATOR_%=': 69,\n",
       " 'BINARY_OPERATOR_>=': 70,\n",
       " 'BINARY_OPERATOR_<<': 71,\n",
       " 'CONDITIONAL_OPERATOR': 72,\n",
       " 'BINARY_OPERATOR_and': 73,\n",
       " 'TEMPLATE_DECL': 74,\n",
       " 'TEMPLATE_TYPE_PARAMETER': 75,\n",
       " 'FUNCTION_TEMPLATE': 76,\n",
       " 'CONST': 77,\n",
       " 'CXX_THIS_EXPR': 78,\n",
       " 'PACK_EXPANSION_EXPR': 79,\n",
       " 'COMPOUND_ASSIGNMENT_OPERATOR_/=': 80,\n",
       " 'CXX_NULL_PTR_LITERAL_EXPR': 81,\n",
       " 'CXX_UNARY_EXPR_sizeof': 82,\n",
       " 'UNEXPOSED_DECL': 83,\n",
       " 'CXX_FUNCTIONAL_CAST_EXPR': 84,\n",
       " 'COMPOUND_ASSIGNMENT_OPERATOR_>>=': 85,\n",
       " 'BINARY_OPERATOR_|': 86,\n",
       " 'COMPOUND_ASSIGNMENT_OPERATOR_^=': 87,\n",
       " 'UNARY_OPERATOR_PRE_--': 88,\n",
       " 'COMPOUND_ASSIGNMENT_OPERATOR_*=': 89,\n",
       " 'COMPOUND_LITERAL_EXPR': 90,\n",
       " 'CLASS_DECL': 91,\n",
       " 'COMPOUND_ASSIGNMENT_OPERATOR_|=': 92,\n",
       " 'BINARY_OPERATOR_or': 93,\n",
       " 'SIZE_OF_PACK_EXPR': 94,\n",
       " 'DO_STMT': 95,\n",
       " 'CXX_NEW_EXPR': 96,\n",
       " 'UNARY_OPERATOR_*': 97,\n",
       " 'CXX_DELETE_EXPR': 98,\n",
       " 'PRIVATE': 99,\n",
       " 'LAMBDA_EXPR': 100,\n",
       " 'CAPTURE_CLAUSE': 101,\n",
       " 'UNARY_OPERATOR_not': 102,\n",
       " 'UNARY_OPERATOR_~': 103,\n",
       " 'SWITCH_STMT': 104,\n",
       " 'CASE_STMT': 105,\n",
       " 'DEFAULT_STMT': 106,\n",
       " 'COMPOUND_ASSIGNMENT_OPERATOR_<<=': 107,\n",
       " 'CXX_THROW_EXPR': 108,\n",
       " 'CXX_TRY_STMT': 109,\n",
       " 'CXX_CATCH_STMT': 110,\n",
       " 'COMPOUND_ASSIGNMENT_OPERATOR_&=': 111,\n",
       " 'CXX_BASE_SPECIFIER': 112,\n",
       " 'LABEL_STMT': 113,\n",
       " 'GOTO_STMT': 114,\n",
       " 'LABEL_REF': 115,\n",
       " 'UNEXPOSED_ATTR': 116,\n",
       " 'ASM_STMT': 117,\n",
       " 'UNARY_OPERATOR_+': 118,\n",
       " 'ADDR_LABEL_EXPR': 119,\n",
       " 'DESTRUCTOR': 120,\n",
       " 'CXX_STATIC_CAST_EXPR': 121,\n",
       " 'BINARY_OPERATOR_bitor': 122,\n",
       " 'TEMPLATE_REF': 123,\n",
       " 'StmtExpr': 124,\n",
       " 'BINARY_OPERATOR_#': 125,\n",
       " 'CONST_ATTR': 126,\n",
       " 'CXX_UNARY_EXPR_+': 127,\n",
       " 'UNEXPOSED_EXPR': 128,\n",
       " 'BINARY_OPERATOR_xor': 129,\n",
       " 'VISIBILITY_ATTR': 130,\n",
       " 'PROTECTED': 131,\n",
       " 'CXX_TYPEID_EXPR': 132,\n",
       " 'VARIABLE_REF': 133,\n",
       " 'CXX_UNARY_EXPR_>': 134,\n",
       " '<pad>': 135}"
      ]
     },
     "execution_count": 290,
     "metadata": {},
     "output_type": "execute_result"
    }
   ],
   "source": [
    "reserved_tokens"
   ]
  },
  {
   "cell_type": "code",
   "execution_count": 269,
   "metadata": {},
   "outputs": [],
   "source": []
  },
  {
   "cell_type": "code",
   "execution_count": 12,
   "metadata": {},
   "outputs": [],
   "source": [
    "TreePlotter.plot_tree(root, 'tree.png')"
   ]
  },
  {
   "cell_type": "code",
   "execution_count": 13,
   "metadata": {},
   "outputs": [],
   "source": [
    "binary_tree = TreeConverter.to_binary(root)"
   ]
  },
  {
   "cell_type": "code",
   "execution_count": 14,
   "metadata": {},
   "outputs": [],
   "source": [
    "TreePlotter.plot_tree(binary_tree, 'binary_tree.png', binary=True)"
   ]
  },
  {
   "cell_type": "code",
   "execution_count": 18,
   "metadata": {},
   "outputs": [],
   "source": [
    "tree_repr = torch.tensor([node.token for node in PreOrderIter(root) if node.res])"
   ]
  },
  {
   "cell_type": "code",
   "execution_count": 18,
   "metadata": {},
   "outputs": [
    {
     "data": {
      "text/plain": [
       "AnyNode(res=False, token='')"
      ]
     },
     "execution_count": 18,
     "metadata": {},
     "output_type": "execute_result"
    }
   ],
   "source": [
    "root.children[0].children[1].children[0].children[0]"
   ]
  }
 ],
 "metadata": {
  "kernelspec": {
   "display_name": "venv",
   "language": "python",
   "name": "venv"
  },
  "language_info": {
   "codemirror_mode": {
    "name": "ipython",
    "version": 3
   },
   "file_extension": ".py",
   "mimetype": "text/x-python",
   "name": "python",
   "nbconvert_exporter": "python",
   "pygments_lexer": "ipython3",
   "version": "3.8.5"
  }
 },
 "nbformat": 4,
 "nbformat_minor": 4
}
